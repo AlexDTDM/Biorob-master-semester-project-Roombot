{
 "cells": [
  {
   "cell_type": "code",
   "execution_count": 3,
   "id": "bb435c7b",
   "metadata": {},
   "outputs": [
    {
     "name": "stdout",
     "output_type": "stream",
     "text": [
      "0.0032813130802532182\n"
     ]
    }
   ],
   "source": [
    "from urdfpy import URDF\n",
    "import math\n",
    "import numpy as np\n",
    "%matplotlib widget\n",
    "import matplotlib.pyplot as plt\n",
    "import pandas as pd\n",
    "import plotly\n",
    "import plotly.graph_objs as go\n",
    "import plotly.express as px\n",
    "from scipy.spatial import distance\n",
    "\n",
    "def get_angle(P,Q):\n",
    "    R = np.dot(P,Q.T)\n",
    "    theta = (np.trace(R) -1)/2\n",
    "    if theta > 1:\n",
    "        theta = 1\n",
    "    elif theta < -1:\n",
    "        theta = -1\n",
    "    return np.arccos(theta) * (180/np.pi)\n",
    "\n",
    "\n",
    "# index of end-effector is 17\n",
    "end_effector = 17\n",
    "acm1Frame = 16\n",
    "acm1Fixed = 15\n",
    "acm1aligned = 17\n",
    "base_link = 0\n",
    "\n",
    "\n",
    "\n",
    "robot = URDF.load('roombot_description/urdf/roombot.urdf')\n",
    "\n",
    "#initial position:\n",
    "m_init =[120, 180, -120]\n",
    "offset_rad = (3*np.pi)/180\n",
    "\n",
    "#m_init_rad = [(m_init[0]*np.pi)/180, (m_init[1]*np.pi)/180, (m_init[2]*np.pi)/180]\n",
    "m_init_rad = [(m_init[0]*np.pi)/180, (m_init[1]*np.pi)/180, (m_init[2]*np.pi)/180]\n",
    "\n",
    "m_mid_rad = [(10*np.pi)/180, 0, 0]\n",
    "m_mid_rad2 = [(30*np.pi)/180, 0, 0]\n",
    "m_mid_rad3 = [(50*np.pi)/180, 0, 0]\n",
    "m_mid_rad4 = [(120*np.pi)/180, 180, -60]\n",
    "m_mid_rad5 = [(120*np.pi)/180, 0, 0]\n",
    "#m_mid_rad = [0, 0, 0]\n",
    "\n",
    "\n",
    "# before move\n",
    "fk = robot.link_fk()\n",
    "r_1 = np.array(fk[robot.links[acm1aligned]]) \n",
    "r_b = np.array(fk[robot.links[base_link]])\n",
    "\n",
    "config = {'M0': m_init_rad[0], 'M1': m_init_rad[1], 'M2': m_init_rad[2]}\n",
    "fk = robot.link_fk(cfg=config)\n",
    "r_1_in = np.array(fk[robot.links[acm1aligned]])\n",
    "vect_in = r_1_in[:3,3]\n",
    "\n",
    "\n",
    "config = {'M0': m_mid_rad[0], 'M1': m_mid_rad[1], 'M2': m_mid_rad[2]}\n",
    "fk = robot.link_fk(cfg=config)\n",
    "r_1_m = np.array(fk[robot.links[acm1aligned]])\n",
    "\n",
    "config = {'M0': m_mid_rad2[0], 'M1': m_mid_rad2[1], 'M2': m_mid_rad2[2]}\n",
    "fk = robot.link_fk(cfg=config)\n",
    "#r_1_m2 = np.array(fk[robot.links[acm1aligned]])\n",
    "r_1_m2 = np.array(fk[robot.links[acm1aligned]])\n",
    "\n",
    "\n",
    "config = {'M0': m_mid_rad3[0], 'M1': m_mid_rad3[1], 'M2': m_mid_rad3[2]}\n",
    "fk = robot.link_fk(cfg=config)\n",
    "r_1_m3 = np.array(fk[robot.links[acm1aligned]])\n",
    "\n",
    "\n",
    "config = {'M0': m_mid_rad4[0], 'M1': m_mid_rad4[1], 'M2': m_mid_rad4[2]}\n",
    "fk = robot.link_fk(cfg=config)\n",
    "r_1_m4 = np.array(fk[robot.links[acm1aligned]])\n",
    "\n",
    "initial_pos_len = np.linalg.norm(r_1_in[:2, 3])\n",
    "offset = offset_rad*initial_pos_len\n",
    "\n",
    "theta = np.arctan(-r_1_in[:3, 3][0]/r_1_in[:3, 3][1])\n",
    "\n",
    "x_true = [np.sin(theta+offset_rad)*initial_pos_len, -np.cos(theta+offset_rad)*initial_pos_len, r_1_in[:3, 3][2]]\n",
    "\n",
    "\n",
    "\n",
    "print(theta)"
   ]
  },
  {
   "cell_type": "code",
   "execution_count": 4,
   "id": "442f6708",
   "metadata": {},
   "outputs": [],
   "source": [
    "r_1_in_shift = r_1_in.copy()\n",
    "r_1_in_shift[:3,3] = x_true\n",
    "vect_in_shift = r_1_in_shift[:3,3]"
   ]
  },
  {
   "cell_type": "code",
   "execution_count": 11,
   "id": "8a3a7f0e",
   "metadata": {},
   "outputs": [],
   "source": [
    "n_points = 40\n",
    "thresh = 0.5\n",
    "thresh2 = 2\n",
    "bound = (20*np.pi)/180\n",
    "\n",
    "\n",
    "m0_angles = np.linspace(-bound, bound, n_points)\n",
    "m1_angles = np.linspace(-bound, bound, n_points)\n",
    "m2_angles = np.linspace(-bound, bound, n_points)\n",
    "\n",
    "point_of_interest = []\n",
    "points_of_interest = []\n",
    "pointsx = []\n",
    "pointsy = []\n",
    "pointsz = []\n",
    "points = []\n",
    "sol = []\n",
    "hom_matrix = []\n",
    "short_dist_all = []\n",
    "short_dist = 100\n",
    "sec_short_dist = 0\n",
    "for m0 in m0_angles:\n",
    "    for m1 in m1_angles:\n",
    "        for m2 in m2_angles:\n",
    "            old_angles = [m0, m1, m2]\n",
    "            config = {'M0': m0+m_init_rad[0], 'M1': m1+m_init_rad[1], 'M2': m2+m_init_rad[2]} #reach random positons from initial motor command\n",
    "            fk = robot.link_fk(cfg=config)\n",
    "            r_2 = np.array(fk[robot.links[acm1aligned]])[:3, :3]\n",
    "            vect = np.array(fk[robot.links[acm1aligned]])[:3, 3]\n",
    "            \n",
    "            if (get_angle(r_1_in_shift[:3, :3], r_2) < thresh): #if angle lower than 0.5°\n",
    "                    \n",
    "                pointsx.append(np.array(fk[robot.links[acm1aligned]])[0, 3])\n",
    "                pointsy.append(np.array(fk[robot.links[acm1aligned]])[1, 3])\n",
    "                pointsz.append(np.array(fk[robot.links[acm1aligned]])[2, 3]) \n",
    "                \n",
    "                points.append(vect)\n",
    "                sol.append([(m0+m_init_rad[0])*180/np.pi, m1+m_init_rad[1]*180/np.pi, m2+m_init_rad[2]*180/np.pi])\n",
    "                norm = np.linalg.norm(vect_in_shift - vect)                                \n",
    "             \n",
    "                "
   ]
  },
  {
   "cell_type": "code",
   "execution_count": 12,
   "id": "5153fe81",
   "metadata": {},
   "outputs": [],
   "source": [
    "#keep key positions:\n",
    "reach_pos = pd.DataFrame(columns = ['x', 'y', 'z', 'x_shift', 'y_shift', 'z_shift'])\n",
    "reach_pos['x'] = pointsx\n",
    "reach_pos['y'] = pointsy\n",
    "reach_pos['z'] = pointsz\n",
    "results = pd.DataFrame(columns = ['vector', 'motor_command'])\n",
    "results['vector'] = points\n",
    "results['motor_command'] = sol"
   ]
  },
  {
   "cell_type": "code",
   "execution_count": 13,
   "id": "f9dc6af5",
   "metadata": {},
   "outputs": [],
   "source": [
    "pointsx_shift =[]\n",
    "pointsy_shift = []\n",
    "pointsz_shift = []\n",
    "pos_len = 0\n",
    "\n",
    "for i in range(len(pointsx)):\n",
    "    pos_len = np.linalg.norm([pointsx[i], pointsy[i]])\n",
    "    theta = np.arctan(pointsx[i]/pointsy[i]) \n",
    "    \n",
    "    pointsx_shift.append(np.sin(offset_rad-theta)*initial_pos_len)\n",
    "    pointsy_shift.append(-np.cos(offset_rad-theta)*initial_pos_len)\n",
    "    pointsz_shift.append(pointsz[i])\n",
    "    \n",
    "\n",
    "\n",
    "reach_pos['x_shift'] = pointsx_shift\n",
    "reach_pos['y_shift'] = pointsy_shift\n",
    "reach_pos['z_shift'] = pointsz_shift\n",
    "\n",
    "\n",
    "for i in range(len(results['motor_command'])):\n",
    "    if (results['motor_command'][i][0] < 120):\n",
    "        reach_pos = reach_pos.drop(i)\n",
    "        results = results.drop(i)\n",
    "        "
   ]
  },
  {
   "cell_type": "code",
   "execution_count": 14,
   "id": "649c8d0c",
   "metadata": {},
   "outputs": [],
   "source": [
    "import math\n",
    "\n",
    "def dotproduct(v1, v2):\n",
    "    return sum((a*b) for a, b in zip(v1, v2))\n",
    "\n",
    "def length(v):\n",
    "    return math.sqrt(dotproduct(v, v))\n",
    "\n",
    "def angle(v1, v2):\n",
    "    return math.acos(dotproduct(v1, v2) / (length(v1) * length(v2)))\n",
    "\n",
    "angle = angle([r_1_in_shift[:3,3][0],r_1_in_shift[:3,3][1],r_1_in_shift[:3,3][2]], [r_1_in[:3, 3][0], r_1_in[:3, 3][1], r_1_in[:3, 3][2]])"
   ]
  },
  {
   "cell_type": "code",
   "execution_count": 15,
   "id": "b387d1a8",
   "metadata": {},
   "outputs": [
    {
     "data": {
      "application/vnd.plotly.v1+json": {
       "config": {
        "plotlyServerURL": "https://plot.ly"
       },
       "data": [
        {
         "name": "target position",
         "type": "scatter3d",
         "x": [
          0,
          0.0003585846382844524
         ],
         "y": [
          0,
          -0.1092804443072935
         ],
         "z": [
          0,
          -0.0007119791376543963
         ]
        },
        {
         "name": "sleep position",
         "type": "scatter3d",
         "x": [
          -6.598955848149679e-18,
          0
         ],
         "y": [
          6.2176691605682894e-18,
          0
         ],
         "z": [
          0.22,
          0
         ]
        },
        {
         "name": "initial position",
         "type": "scatter3d",
         "x": [
          0,
          0.006077389761976113
         ],
         "y": [
          0,
          -0.10911191238642698
         ],
         "z": [
          0,
          -0.0007119791376543963
         ]
        },
        {
         "name": "key positions",
         "type": "scatter3d",
         "x": [
          0.00543595430116079,
          0.004143549540015591,
          0.0028384097321805177,
          0.001173808357213813,
          -0.00017001636862804646,
          -0.00152679738705357,
          -0.002896466195287341
         ],
         "y": [
          -0.10914574884885797,
          -0.10920245000984055,
          -0.10924416470061252,
          -0.10927472839079869,
          -0.109280900368622,
          -0.10927036643427702,
          -0.10924264082546634
         ],
         "z": [
          -0.0012825901147042462,
          -0.002414556922191724,
          -0.0035338737926577726,
          -0.005736532914737046,
          -0.006818371289500191,
          -0.007886036790076469,
          -0.008939137685608105
         ]
        }
       ],
       "layout": {
        "template": {
         "data": {
          "bar": [
           {
            "error_x": {
             "color": "#2a3f5f"
            },
            "error_y": {
             "color": "#2a3f5f"
            },
            "marker": {
             "line": {
              "color": "#E5ECF6",
              "width": 0.5
             },
             "pattern": {
              "fillmode": "overlay",
              "size": 10,
              "solidity": 0.2
             }
            },
            "type": "bar"
           }
          ],
          "barpolar": [
           {
            "marker": {
             "line": {
              "color": "#E5ECF6",
              "width": 0.5
             },
             "pattern": {
              "fillmode": "overlay",
              "size": 10,
              "solidity": 0.2
             }
            },
            "type": "barpolar"
           }
          ],
          "carpet": [
           {
            "aaxis": {
             "endlinecolor": "#2a3f5f",
             "gridcolor": "white",
             "linecolor": "white",
             "minorgridcolor": "white",
             "startlinecolor": "#2a3f5f"
            },
            "baxis": {
             "endlinecolor": "#2a3f5f",
             "gridcolor": "white",
             "linecolor": "white",
             "minorgridcolor": "white",
             "startlinecolor": "#2a3f5f"
            },
            "type": "carpet"
           }
          ],
          "choropleth": [
           {
            "colorbar": {
             "outlinewidth": 0,
             "ticks": ""
            },
            "type": "choropleth"
           }
          ],
          "contour": [
           {
            "colorbar": {
             "outlinewidth": 0,
             "ticks": ""
            },
            "colorscale": [
             [
              0,
              "#0d0887"
             ],
             [
              0.1111111111111111,
              "#46039f"
             ],
             [
              0.2222222222222222,
              "#7201a8"
             ],
             [
              0.3333333333333333,
              "#9c179e"
             ],
             [
              0.4444444444444444,
              "#bd3786"
             ],
             [
              0.5555555555555556,
              "#d8576b"
             ],
             [
              0.6666666666666666,
              "#ed7953"
             ],
             [
              0.7777777777777778,
              "#fb9f3a"
             ],
             [
              0.8888888888888888,
              "#fdca26"
             ],
             [
              1,
              "#f0f921"
             ]
            ],
            "type": "contour"
           }
          ],
          "contourcarpet": [
           {
            "colorbar": {
             "outlinewidth": 0,
             "ticks": ""
            },
            "type": "contourcarpet"
           }
          ],
          "heatmap": [
           {
            "colorbar": {
             "outlinewidth": 0,
             "ticks": ""
            },
            "colorscale": [
             [
              0,
              "#0d0887"
             ],
             [
              0.1111111111111111,
              "#46039f"
             ],
             [
              0.2222222222222222,
              "#7201a8"
             ],
             [
              0.3333333333333333,
              "#9c179e"
             ],
             [
              0.4444444444444444,
              "#bd3786"
             ],
             [
              0.5555555555555556,
              "#d8576b"
             ],
             [
              0.6666666666666666,
              "#ed7953"
             ],
             [
              0.7777777777777778,
              "#fb9f3a"
             ],
             [
              0.8888888888888888,
              "#fdca26"
             ],
             [
              1,
              "#f0f921"
             ]
            ],
            "type": "heatmap"
           }
          ],
          "heatmapgl": [
           {
            "colorbar": {
             "outlinewidth": 0,
             "ticks": ""
            },
            "colorscale": [
             [
              0,
              "#0d0887"
             ],
             [
              0.1111111111111111,
              "#46039f"
             ],
             [
              0.2222222222222222,
              "#7201a8"
             ],
             [
              0.3333333333333333,
              "#9c179e"
             ],
             [
              0.4444444444444444,
              "#bd3786"
             ],
             [
              0.5555555555555556,
              "#d8576b"
             ],
             [
              0.6666666666666666,
              "#ed7953"
             ],
             [
              0.7777777777777778,
              "#fb9f3a"
             ],
             [
              0.8888888888888888,
              "#fdca26"
             ],
             [
              1,
              "#f0f921"
             ]
            ],
            "type": "heatmapgl"
           }
          ],
          "histogram": [
           {
            "marker": {
             "pattern": {
              "fillmode": "overlay",
              "size": 10,
              "solidity": 0.2
             }
            },
            "type": "histogram"
           }
          ],
          "histogram2d": [
           {
            "colorbar": {
             "outlinewidth": 0,
             "ticks": ""
            },
            "colorscale": [
             [
              0,
              "#0d0887"
             ],
             [
              0.1111111111111111,
              "#46039f"
             ],
             [
              0.2222222222222222,
              "#7201a8"
             ],
             [
              0.3333333333333333,
              "#9c179e"
             ],
             [
              0.4444444444444444,
              "#bd3786"
             ],
             [
              0.5555555555555556,
              "#d8576b"
             ],
             [
              0.6666666666666666,
              "#ed7953"
             ],
             [
              0.7777777777777778,
              "#fb9f3a"
             ],
             [
              0.8888888888888888,
              "#fdca26"
             ],
             [
              1,
              "#f0f921"
             ]
            ],
            "type": "histogram2d"
           }
          ],
          "histogram2dcontour": [
           {
            "colorbar": {
             "outlinewidth": 0,
             "ticks": ""
            },
            "colorscale": [
             [
              0,
              "#0d0887"
             ],
             [
              0.1111111111111111,
              "#46039f"
             ],
             [
              0.2222222222222222,
              "#7201a8"
             ],
             [
              0.3333333333333333,
              "#9c179e"
             ],
             [
              0.4444444444444444,
              "#bd3786"
             ],
             [
              0.5555555555555556,
              "#d8576b"
             ],
             [
              0.6666666666666666,
              "#ed7953"
             ],
             [
              0.7777777777777778,
              "#fb9f3a"
             ],
             [
              0.8888888888888888,
              "#fdca26"
             ],
             [
              1,
              "#f0f921"
             ]
            ],
            "type": "histogram2dcontour"
           }
          ],
          "mesh3d": [
           {
            "colorbar": {
             "outlinewidth": 0,
             "ticks": ""
            },
            "type": "mesh3d"
           }
          ],
          "parcoords": [
           {
            "line": {
             "colorbar": {
              "outlinewidth": 0,
              "ticks": ""
             }
            },
            "type": "parcoords"
           }
          ],
          "pie": [
           {
            "automargin": true,
            "type": "pie"
           }
          ],
          "scatter": [
           {
            "fillpattern": {
             "fillmode": "overlay",
             "size": 10,
             "solidity": 0.2
            },
            "type": "scatter"
           }
          ],
          "scatter3d": [
           {
            "line": {
             "colorbar": {
              "outlinewidth": 0,
              "ticks": ""
             }
            },
            "marker": {
             "colorbar": {
              "outlinewidth": 0,
              "ticks": ""
             }
            },
            "type": "scatter3d"
           }
          ],
          "scattercarpet": [
           {
            "marker": {
             "colorbar": {
              "outlinewidth": 0,
              "ticks": ""
             }
            },
            "type": "scattercarpet"
           }
          ],
          "scattergeo": [
           {
            "marker": {
             "colorbar": {
              "outlinewidth": 0,
              "ticks": ""
             }
            },
            "type": "scattergeo"
           }
          ],
          "scattergl": [
           {
            "marker": {
             "colorbar": {
              "outlinewidth": 0,
              "ticks": ""
             }
            },
            "type": "scattergl"
           }
          ],
          "scattermapbox": [
           {
            "marker": {
             "colorbar": {
              "outlinewidth": 0,
              "ticks": ""
             }
            },
            "type": "scattermapbox"
           }
          ],
          "scatterpolar": [
           {
            "marker": {
             "colorbar": {
              "outlinewidth": 0,
              "ticks": ""
             }
            },
            "type": "scatterpolar"
           }
          ],
          "scatterpolargl": [
           {
            "marker": {
             "colorbar": {
              "outlinewidth": 0,
              "ticks": ""
             }
            },
            "type": "scatterpolargl"
           }
          ],
          "scatterternary": [
           {
            "marker": {
             "colorbar": {
              "outlinewidth": 0,
              "ticks": ""
             }
            },
            "type": "scatterternary"
           }
          ],
          "surface": [
           {
            "colorbar": {
             "outlinewidth": 0,
             "ticks": ""
            },
            "colorscale": [
             [
              0,
              "#0d0887"
             ],
             [
              0.1111111111111111,
              "#46039f"
             ],
             [
              0.2222222222222222,
              "#7201a8"
             ],
             [
              0.3333333333333333,
              "#9c179e"
             ],
             [
              0.4444444444444444,
              "#bd3786"
             ],
             [
              0.5555555555555556,
              "#d8576b"
             ],
             [
              0.6666666666666666,
              "#ed7953"
             ],
             [
              0.7777777777777778,
              "#fb9f3a"
             ],
             [
              0.8888888888888888,
              "#fdca26"
             ],
             [
              1,
              "#f0f921"
             ]
            ],
            "type": "surface"
           }
          ],
          "table": [
           {
            "cells": {
             "fill": {
              "color": "#EBF0F8"
             },
             "line": {
              "color": "white"
             }
            },
            "header": {
             "fill": {
              "color": "#C8D4E3"
             },
             "line": {
              "color": "white"
             }
            },
            "type": "table"
           }
          ]
         },
         "layout": {
          "annotationdefaults": {
           "arrowcolor": "#2a3f5f",
           "arrowhead": 0,
           "arrowwidth": 1
          },
          "autotypenumbers": "strict",
          "coloraxis": {
           "colorbar": {
            "outlinewidth": 0,
            "ticks": ""
           }
          },
          "colorscale": {
           "diverging": [
            [
             0,
             "#8e0152"
            ],
            [
             0.1,
             "#c51b7d"
            ],
            [
             0.2,
             "#de77ae"
            ],
            [
             0.3,
             "#f1b6da"
            ],
            [
             0.4,
             "#fde0ef"
            ],
            [
             0.5,
             "#f7f7f7"
            ],
            [
             0.6,
             "#e6f5d0"
            ],
            [
             0.7,
             "#b8e186"
            ],
            [
             0.8,
             "#7fbc41"
            ],
            [
             0.9,
             "#4d9221"
            ],
            [
             1,
             "#276419"
            ]
           ],
           "sequential": [
            [
             0,
             "#0d0887"
            ],
            [
             0.1111111111111111,
             "#46039f"
            ],
            [
             0.2222222222222222,
             "#7201a8"
            ],
            [
             0.3333333333333333,
             "#9c179e"
            ],
            [
             0.4444444444444444,
             "#bd3786"
            ],
            [
             0.5555555555555556,
             "#d8576b"
            ],
            [
             0.6666666666666666,
             "#ed7953"
            ],
            [
             0.7777777777777778,
             "#fb9f3a"
            ],
            [
             0.8888888888888888,
             "#fdca26"
            ],
            [
             1,
             "#f0f921"
            ]
           ],
           "sequentialminus": [
            [
             0,
             "#0d0887"
            ],
            [
             0.1111111111111111,
             "#46039f"
            ],
            [
             0.2222222222222222,
             "#7201a8"
            ],
            [
             0.3333333333333333,
             "#9c179e"
            ],
            [
             0.4444444444444444,
             "#bd3786"
            ],
            [
             0.5555555555555556,
             "#d8576b"
            ],
            [
             0.6666666666666666,
             "#ed7953"
            ],
            [
             0.7777777777777778,
             "#fb9f3a"
            ],
            [
             0.8888888888888888,
             "#fdca26"
            ],
            [
             1,
             "#f0f921"
            ]
           ]
          },
          "colorway": [
           "#636efa",
           "#EF553B",
           "#00cc96",
           "#ab63fa",
           "#FFA15A",
           "#19d3f3",
           "#FF6692",
           "#B6E880",
           "#FF97FF",
           "#FECB52"
          ],
          "font": {
           "color": "#2a3f5f"
          },
          "geo": {
           "bgcolor": "white",
           "lakecolor": "white",
           "landcolor": "#E5ECF6",
           "showlakes": true,
           "showland": true,
           "subunitcolor": "white"
          },
          "hoverlabel": {
           "align": "left"
          },
          "hovermode": "closest",
          "mapbox": {
           "style": "light"
          },
          "paper_bgcolor": "white",
          "plot_bgcolor": "#E5ECF6",
          "polar": {
           "angularaxis": {
            "gridcolor": "white",
            "linecolor": "white",
            "ticks": ""
           },
           "bgcolor": "#E5ECF6",
           "radialaxis": {
            "gridcolor": "white",
            "linecolor": "white",
            "ticks": ""
           }
          },
          "scene": {
           "xaxis": {
            "backgroundcolor": "#E5ECF6",
            "gridcolor": "white",
            "gridwidth": 2,
            "linecolor": "white",
            "showbackground": true,
            "ticks": "",
            "zerolinecolor": "white"
           },
           "yaxis": {
            "backgroundcolor": "#E5ECF6",
            "gridcolor": "white",
            "gridwidth": 2,
            "linecolor": "white",
            "showbackground": true,
            "ticks": "",
            "zerolinecolor": "white"
           },
           "zaxis": {
            "backgroundcolor": "#E5ECF6",
            "gridcolor": "white",
            "gridwidth": 2,
            "linecolor": "white",
            "showbackground": true,
            "ticks": "",
            "zerolinecolor": "white"
           }
          },
          "shapedefaults": {
           "line": {
            "color": "#2a3f5f"
           }
          },
          "ternary": {
           "aaxis": {
            "gridcolor": "white",
            "linecolor": "white",
            "ticks": ""
           },
           "baxis": {
            "gridcolor": "white",
            "linecolor": "white",
            "ticks": ""
           },
           "bgcolor": "#E5ECF6",
           "caxis": {
            "gridcolor": "white",
            "linecolor": "white",
            "ticks": ""
           }
          },
          "title": {
           "x": 0.05
          },
          "xaxis": {
           "automargin": true,
           "gridcolor": "white",
           "linecolor": "white",
           "ticks": "",
           "title": {
            "standoff": 15
           },
           "zerolinecolor": "white",
           "zerolinewidth": 2
          },
          "yaxis": {
           "automargin": true,
           "gridcolor": "white",
           "linecolor": "white",
           "ticks": "",
           "title": {
            "standoff": 15
           },
           "zerolinecolor": "white",
           "zerolinewidth": 2
          }
         }
        }
       }
      },
      "text/html": [
       "<div>                            <div id=\"681054b7-67a3-4a82-be2b-5e3d214578e5\" class=\"plotly-graph-div\" style=\"height:525px; width:100%;\"></div>            <script type=\"text/javascript\">                require([\"plotly\"], function(Plotly) {                    window.PLOTLYENV=window.PLOTLYENV || {};                                    if (document.getElementById(\"681054b7-67a3-4a82-be2b-5e3d214578e5\")) {                    Plotly.newPlot(                        \"681054b7-67a3-4a82-be2b-5e3d214578e5\",                        [{\"name\":\"target position\",\"x\":[0.0,0.0003585846382844524],\"y\":[0.0,-0.1092804443072935],\"z\":[0.0,-0.0007119791376543963],\"type\":\"scatter3d\"},{\"name\":\"sleep position\",\"x\":[-6.598955848149679e-18,0.0],\"y\":[6.2176691605682894e-18,0.0],\"z\":[0.22,0.0],\"type\":\"scatter3d\"},{\"name\":\"initial position\",\"x\":[0.0,0.006077389761976113],\"y\":[0.0,-0.10911191238642698],\"z\":[0.0,-0.0007119791376543963],\"type\":\"scatter3d\"},{\"name\":\"key positions\",\"x\":[0.00543595430116079,0.004143549540015591,0.0028384097321805177,0.001173808357213813,-0.00017001636862804646,-0.00152679738705357,-0.002896466195287341],\"y\":[-0.10914574884885797,-0.10920245000984055,-0.10924416470061252,-0.10927472839079869,-0.109280900368622,-0.10927036643427702,-0.10924264082546634],\"z\":[-0.0012825901147042462,-0.002414556922191724,-0.0035338737926577726,-0.005736532914737046,-0.006818371289500191,-0.007886036790076469,-0.008939137685608105],\"type\":\"scatter3d\"}],                        {\"template\":{\"data\":{\"histogram2dcontour\":[{\"type\":\"histogram2dcontour\",\"colorbar\":{\"outlinewidth\":0,\"ticks\":\"\"},\"colorscale\":[[0.0,\"#0d0887\"],[0.1111111111111111,\"#46039f\"],[0.2222222222222222,\"#7201a8\"],[0.3333333333333333,\"#9c179e\"],[0.4444444444444444,\"#bd3786\"],[0.5555555555555556,\"#d8576b\"],[0.6666666666666666,\"#ed7953\"],[0.7777777777777778,\"#fb9f3a\"],[0.8888888888888888,\"#fdca26\"],[1.0,\"#f0f921\"]]}],\"choropleth\":[{\"type\":\"choropleth\",\"colorbar\":{\"outlinewidth\":0,\"ticks\":\"\"}}],\"histogram2d\":[{\"type\":\"histogram2d\",\"colorbar\":{\"outlinewidth\":0,\"ticks\":\"\"},\"colorscale\":[[0.0,\"#0d0887\"],[0.1111111111111111,\"#46039f\"],[0.2222222222222222,\"#7201a8\"],[0.3333333333333333,\"#9c179e\"],[0.4444444444444444,\"#bd3786\"],[0.5555555555555556,\"#d8576b\"],[0.6666666666666666,\"#ed7953\"],[0.7777777777777778,\"#fb9f3a\"],[0.8888888888888888,\"#fdca26\"],[1.0,\"#f0f921\"]]}],\"heatmap\":[{\"type\":\"heatmap\",\"colorbar\":{\"outlinewidth\":0,\"ticks\":\"\"},\"colorscale\":[[0.0,\"#0d0887\"],[0.1111111111111111,\"#46039f\"],[0.2222222222222222,\"#7201a8\"],[0.3333333333333333,\"#9c179e\"],[0.4444444444444444,\"#bd3786\"],[0.5555555555555556,\"#d8576b\"],[0.6666666666666666,\"#ed7953\"],[0.7777777777777778,\"#fb9f3a\"],[0.8888888888888888,\"#fdca26\"],[1.0,\"#f0f921\"]]}],\"heatmapgl\":[{\"type\":\"heatmapgl\",\"colorbar\":{\"outlinewidth\":0,\"ticks\":\"\"},\"colorscale\":[[0.0,\"#0d0887\"],[0.1111111111111111,\"#46039f\"],[0.2222222222222222,\"#7201a8\"],[0.3333333333333333,\"#9c179e\"],[0.4444444444444444,\"#bd3786\"],[0.5555555555555556,\"#d8576b\"],[0.6666666666666666,\"#ed7953\"],[0.7777777777777778,\"#fb9f3a\"],[0.8888888888888888,\"#fdca26\"],[1.0,\"#f0f921\"]]}],\"contourcarpet\":[{\"type\":\"contourcarpet\",\"colorbar\":{\"outlinewidth\":0,\"ticks\":\"\"}}],\"contour\":[{\"type\":\"contour\",\"colorbar\":{\"outlinewidth\":0,\"ticks\":\"\"},\"colorscale\":[[0.0,\"#0d0887\"],[0.1111111111111111,\"#46039f\"],[0.2222222222222222,\"#7201a8\"],[0.3333333333333333,\"#9c179e\"],[0.4444444444444444,\"#bd3786\"],[0.5555555555555556,\"#d8576b\"],[0.6666666666666666,\"#ed7953\"],[0.7777777777777778,\"#fb9f3a\"],[0.8888888888888888,\"#fdca26\"],[1.0,\"#f0f921\"]]}],\"surface\":[{\"type\":\"surface\",\"colorbar\":{\"outlinewidth\":0,\"ticks\":\"\"},\"colorscale\":[[0.0,\"#0d0887\"],[0.1111111111111111,\"#46039f\"],[0.2222222222222222,\"#7201a8\"],[0.3333333333333333,\"#9c179e\"],[0.4444444444444444,\"#bd3786\"],[0.5555555555555556,\"#d8576b\"],[0.6666666666666666,\"#ed7953\"],[0.7777777777777778,\"#fb9f3a\"],[0.8888888888888888,\"#fdca26\"],[1.0,\"#f0f921\"]]}],\"mesh3d\":[{\"type\":\"mesh3d\",\"colorbar\":{\"outlinewidth\":0,\"ticks\":\"\"}}],\"scatter\":[{\"fillpattern\":{\"fillmode\":\"overlay\",\"size\":10,\"solidity\":0.2},\"type\":\"scatter\"}],\"parcoords\":[{\"type\":\"parcoords\",\"line\":{\"colorbar\":{\"outlinewidth\":0,\"ticks\":\"\"}}}],\"scatterpolargl\":[{\"type\":\"scatterpolargl\",\"marker\":{\"colorbar\":{\"outlinewidth\":0,\"ticks\":\"\"}}}],\"bar\":[{\"error_x\":{\"color\":\"#2a3f5f\"},\"error_y\":{\"color\":\"#2a3f5f\"},\"marker\":{\"line\":{\"color\":\"#E5ECF6\",\"width\":0.5},\"pattern\":{\"fillmode\":\"overlay\",\"size\":10,\"solidity\":0.2}},\"type\":\"bar\"}],\"scattergeo\":[{\"type\":\"scattergeo\",\"marker\":{\"colorbar\":{\"outlinewidth\":0,\"ticks\":\"\"}}}],\"scatterpolar\":[{\"type\":\"scatterpolar\",\"marker\":{\"colorbar\":{\"outlinewidth\":0,\"ticks\":\"\"}}}],\"histogram\":[{\"marker\":{\"pattern\":{\"fillmode\":\"overlay\",\"size\":10,\"solidity\":0.2}},\"type\":\"histogram\"}],\"scattergl\":[{\"type\":\"scattergl\",\"marker\":{\"colorbar\":{\"outlinewidth\":0,\"ticks\":\"\"}}}],\"scatter3d\":[{\"type\":\"scatter3d\",\"line\":{\"colorbar\":{\"outlinewidth\":0,\"ticks\":\"\"}},\"marker\":{\"colorbar\":{\"outlinewidth\":0,\"ticks\":\"\"}}}],\"scattermapbox\":[{\"type\":\"scattermapbox\",\"marker\":{\"colorbar\":{\"outlinewidth\":0,\"ticks\":\"\"}}}],\"scatterternary\":[{\"type\":\"scatterternary\",\"marker\":{\"colorbar\":{\"outlinewidth\":0,\"ticks\":\"\"}}}],\"scattercarpet\":[{\"type\":\"scattercarpet\",\"marker\":{\"colorbar\":{\"outlinewidth\":0,\"ticks\":\"\"}}}],\"carpet\":[{\"aaxis\":{\"endlinecolor\":\"#2a3f5f\",\"gridcolor\":\"white\",\"linecolor\":\"white\",\"minorgridcolor\":\"white\",\"startlinecolor\":\"#2a3f5f\"},\"baxis\":{\"endlinecolor\":\"#2a3f5f\",\"gridcolor\":\"white\",\"linecolor\":\"white\",\"minorgridcolor\":\"white\",\"startlinecolor\":\"#2a3f5f\"},\"type\":\"carpet\"}],\"table\":[{\"cells\":{\"fill\":{\"color\":\"#EBF0F8\"},\"line\":{\"color\":\"white\"}},\"header\":{\"fill\":{\"color\":\"#C8D4E3\"},\"line\":{\"color\":\"white\"}},\"type\":\"table\"}],\"barpolar\":[{\"marker\":{\"line\":{\"color\":\"#E5ECF6\",\"width\":0.5},\"pattern\":{\"fillmode\":\"overlay\",\"size\":10,\"solidity\":0.2}},\"type\":\"barpolar\"}],\"pie\":[{\"automargin\":true,\"type\":\"pie\"}]},\"layout\":{\"autotypenumbers\":\"strict\",\"colorway\":[\"#636efa\",\"#EF553B\",\"#00cc96\",\"#ab63fa\",\"#FFA15A\",\"#19d3f3\",\"#FF6692\",\"#B6E880\",\"#FF97FF\",\"#FECB52\"],\"font\":{\"color\":\"#2a3f5f\"},\"hovermode\":\"closest\",\"hoverlabel\":{\"align\":\"left\"},\"paper_bgcolor\":\"white\",\"plot_bgcolor\":\"#E5ECF6\",\"polar\":{\"bgcolor\":\"#E5ECF6\",\"angularaxis\":{\"gridcolor\":\"white\",\"linecolor\":\"white\",\"ticks\":\"\"},\"radialaxis\":{\"gridcolor\":\"white\",\"linecolor\":\"white\",\"ticks\":\"\"}},\"ternary\":{\"bgcolor\":\"#E5ECF6\",\"aaxis\":{\"gridcolor\":\"white\",\"linecolor\":\"white\",\"ticks\":\"\"},\"baxis\":{\"gridcolor\":\"white\",\"linecolor\":\"white\",\"ticks\":\"\"},\"caxis\":{\"gridcolor\":\"white\",\"linecolor\":\"white\",\"ticks\":\"\"}},\"coloraxis\":{\"colorbar\":{\"outlinewidth\":0,\"ticks\":\"\"}},\"colorscale\":{\"sequential\":[[0.0,\"#0d0887\"],[0.1111111111111111,\"#46039f\"],[0.2222222222222222,\"#7201a8\"],[0.3333333333333333,\"#9c179e\"],[0.4444444444444444,\"#bd3786\"],[0.5555555555555556,\"#d8576b\"],[0.6666666666666666,\"#ed7953\"],[0.7777777777777778,\"#fb9f3a\"],[0.8888888888888888,\"#fdca26\"],[1.0,\"#f0f921\"]],\"sequentialminus\":[[0.0,\"#0d0887\"],[0.1111111111111111,\"#46039f\"],[0.2222222222222222,\"#7201a8\"],[0.3333333333333333,\"#9c179e\"],[0.4444444444444444,\"#bd3786\"],[0.5555555555555556,\"#d8576b\"],[0.6666666666666666,\"#ed7953\"],[0.7777777777777778,\"#fb9f3a\"],[0.8888888888888888,\"#fdca26\"],[1.0,\"#f0f921\"]],\"diverging\":[[0,\"#8e0152\"],[0.1,\"#c51b7d\"],[0.2,\"#de77ae\"],[0.3,\"#f1b6da\"],[0.4,\"#fde0ef\"],[0.5,\"#f7f7f7\"],[0.6,\"#e6f5d0\"],[0.7,\"#b8e186\"],[0.8,\"#7fbc41\"],[0.9,\"#4d9221\"],[1,\"#276419\"]]},\"xaxis\":{\"gridcolor\":\"white\",\"linecolor\":\"white\",\"ticks\":\"\",\"title\":{\"standoff\":15},\"zerolinecolor\":\"white\",\"automargin\":true,\"zerolinewidth\":2},\"yaxis\":{\"gridcolor\":\"white\",\"linecolor\":\"white\",\"ticks\":\"\",\"title\":{\"standoff\":15},\"zerolinecolor\":\"white\",\"automargin\":true,\"zerolinewidth\":2},\"scene\":{\"xaxis\":{\"backgroundcolor\":\"#E5ECF6\",\"gridcolor\":\"white\",\"linecolor\":\"white\",\"showbackground\":true,\"ticks\":\"\",\"zerolinecolor\":\"white\",\"gridwidth\":2},\"yaxis\":{\"backgroundcolor\":\"#E5ECF6\",\"gridcolor\":\"white\",\"linecolor\":\"white\",\"showbackground\":true,\"ticks\":\"\",\"zerolinecolor\":\"white\",\"gridwidth\":2},\"zaxis\":{\"backgroundcolor\":\"#E5ECF6\",\"gridcolor\":\"white\",\"linecolor\":\"white\",\"showbackground\":true,\"ticks\":\"\",\"zerolinecolor\":\"white\",\"gridwidth\":2}},\"shapedefaults\":{\"line\":{\"color\":\"#2a3f5f\"}},\"annotationdefaults\":{\"arrowcolor\":\"#2a3f5f\",\"arrowhead\":0,\"arrowwidth\":1},\"geo\":{\"bgcolor\":\"white\",\"landcolor\":\"#E5ECF6\",\"subunitcolor\":\"white\",\"showland\":true,\"showlakes\":true,\"lakecolor\":\"white\"},\"title\":{\"x\":0.05},\"mapbox\":{\"style\":\"light\"}}}},                        {\"responsive\": true}                    ).then(function(){\n",
       "                            \n",
       "var gd = document.getElementById('681054b7-67a3-4a82-be2b-5e3d214578e5');\n",
       "var x = new MutationObserver(function (mutations, observer) {{\n",
       "        var display = window.getComputedStyle(gd).display;\n",
       "        if (!display || display === 'none') {{\n",
       "            console.log([gd, 'removed!']);\n",
       "            Plotly.purge(gd);\n",
       "            observer.disconnect();\n",
       "        }}\n",
       "}});\n",
       "\n",
       "// Listen for the removal of the full notebook cells\n",
       "var notebookContainer = gd.closest('#notebook-container');\n",
       "if (notebookContainer) {{\n",
       "    x.observe(notebookContainer, {childList: true});\n",
       "}}\n",
       "\n",
       "// Listen for the clearing of the current output cell\n",
       "var outputEl = gd.closest('.output');\n",
       "if (outputEl) {{\n",
       "    x.observe(outputEl, {childList: true});\n",
       "}}\n",
       "\n",
       "                        })                };                });            </script>        </div>"
      ]
     },
     "metadata": {},
     "output_type": "display_data"
    }
   ],
   "source": [
    "#display results\n",
    "\n",
    "sleep_pos = go.Scatter3d(\n",
    "    x=[r_1[:3, 3][0],r_b[:3, 3][0]],\n",
    "    y=[r_1[:3,3][1], r_b[:3,3][1]],\n",
    "    z =[r_1[:3,3][2], r_b[:3,3][2]],\n",
    "    name=\"sleep position\"\n",
    ")\n",
    "true_pos = go.Scatter3d(\n",
    "    x=[r_b[:3, 3][0], r_1_in_shift[:3,3][0]],\n",
    "    y=[r_b[:3,3][1], r_1_in_shift[:3,3][1]],\n",
    "    z = [r_b[:3,3][2], r_1_in_shift[:3,3][2]],\n",
    "    name=\"initial position\"\n",
    ")\n",
    "\n",
    "initial_pos = go.Scatter3d(\n",
    "    x=[r_b[:3, 3][0], r_1_in[:3, 3][0]],\n",
    "    y=[r_b[:3,3][1], r_1_in[:3, 3][1]],\n",
    "    z = [r_b[:3,3][2], r_1_in[:3, 3][2]],\n",
    "    name=\"target position\"\n",
    ")\n",
    "\n",
    "\n",
    "reachable_pos = go.Scatter3d(\n",
    "    x=reach_pos['x'],\n",
    "    y=reach_pos['y'],\n",
    "    z = reach_pos['z'],\n",
    "    name=\"key positions\"\n",
    ")\n",
    "\n",
    "shift_pos = go.Scatter3d(\n",
    "    x=reach_pos['x_shift'] ,\n",
    "    y=reach_pos['y_shift'] ,\n",
    "    z = reach_pos['z_shift'] ,\n",
    "    name=\"key positions\"\n",
    ")\n",
    "\n",
    "\n",
    "mid_pos = go.Scatter3d(\n",
    "    x=[r_b[:3, 3][0], r_1_m[:3, 3][0]],\n",
    "    y=[r_b[:3,3][1], r_1_m[:3, 3][1]],\n",
    "    z = [r_b[:3,3][2], r_1_m[:3, 3][2]],\n",
    "    name=\"mid position\"\n",
    ")\n",
    "\n",
    "mid_pos2 = go.Scatter3d(\n",
    "    x=[r_b[:3, 3][0], r_1_m2[:3, 3][0]],\n",
    "    y=[r_b[:3,3][1], r_1_m2[:3, 3][1]],\n",
    "    z = [r_b[:3,3][2], r_1_m2[:3, 3][2]],\n",
    "    name=\"mid position2\"\n",
    ")\n",
    "\n",
    "mid_pos3 = go.Scatter3d(\n",
    "    x=[r_b[:3, 3][0], r_1_m3[:3, 3][0]],\n",
    "    y=[r_b[:3,3][1], r_1_m3[:3, 3][1]],\n",
    "    z = [r_b[:3,3][2], r_1_m3[:3, 3][2]],\n",
    "    name=\"mid position3\"\n",
    ")\n",
    "\n",
    "\n",
    "data = [initial_pos, sleep_pos, true_pos, shift_pos]\n",
    "\n",
    "fig = go.Figure(data=data)\n",
    "fig.show()"
   ]
  },
  {
   "cell_type": "code",
   "execution_count": null,
   "id": "91da09b4",
   "metadata": {},
   "outputs": [],
   "source": []
  }
 ],
 "metadata": {
  "kernelspec": {
   "display_name": "Python 3 (ipykernel)",
   "language": "python",
   "name": "python3"
  },
  "language_info": {
   "codemirror_mode": {
    "name": "ipython",
    "version": 3
   },
   "file_extension": ".py",
   "mimetype": "text/x-python",
   "name": "python",
   "nbconvert_exporter": "python",
   "pygments_lexer": "ipython3",
   "version": "3.9.13"
  }
 },
 "nbformat": 4,
 "nbformat_minor": 5
}
